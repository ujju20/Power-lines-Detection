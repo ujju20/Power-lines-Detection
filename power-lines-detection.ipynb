{
 "cells": [
  {
   "cell_type": "code",
   "execution_count": 1,
   "metadata": {
    "_cell_guid": "b1076dfc-b9ad-4769-8c92-a6c4dae69d19",
    "_uuid": "8f2839f25d086af736a60e9eeb907d3b93b6e0e5",
    "execution": {
     "iopub.execute_input": "2021-04-03T06:39:17.108825Z",
     "iopub.status.busy": "2021-04-03T06:39:17.108009Z",
     "iopub.status.idle": "2021-04-03T06:39:17.111440Z",
     "shell.execute_reply": "2021-04-03T06:39:17.111844Z"
    },
    "papermill": {
     "duration": 0.031328,
     "end_time": "2021-04-03T06:39:17.112081",
     "exception": false,
     "start_time": "2021-04-03T06:39:17.080753",
     "status": "completed"
    },
    "tags": []
   },
   "outputs": [
    {
     "data": {
      "text/plain": [
       "\"for dirname, _, filenames in os.walk('/kaggle/input'):\\n    for filename in filenames:\\n        print(os.path.join(dirname, filename))\""
      ]
     },
     "execution_count": 1,
     "metadata": {},
     "output_type": "execute_result"
    }
   ],
   "source": [
    "# This Python 3 environment comes with many helpful analytics libraries installed\n",
    "# It is defined by the kaggle/python Docker image: https://github.com/kaggle/docker-python\n",
    "# For example, here's several helpful packages to load\n",
    "\n",
    "import numpy as np # linear algebra\n",
    "import pandas as pd # data processing, CSV file I/O (e.g. pd.read_csv)\n",
    "\n",
    "# Input data files are available in the read-only \"../input/\" directory\n",
    "# For example, running this (by clicking run or pressing Shift+Enter) will list all files under the input directory\n",
    "\n",
    "import os\n",
    "'''for dirname, _, filenames in os.walk('/kaggle/input'):\n",
    "    for filename in filenames:\n",
    "        print(os.path.join(dirname, filename))'''\n",
    "\n",
    "# You can write up to 20GB to the current directory (/kaggle/working/) that gets preserved as output when you create a version using \"Save & Run All\" \n",
    "# You can also write temporary files to /kaggle/temp/, but they won't be saved outside of the current session"
   ]
  },
  {
   "cell_type": "markdown",
   "metadata": {
    "papermill": {
     "duration": 0.018902,
     "end_time": "2021-04-03T06:39:17.150688",
     "exception": false,
     "start_time": "2021-04-03T06:39:17.131786",
     "status": "completed"
    },
    "tags": []
   },
   "source": [
    "# ****Function for detecting Horizontal and Vertical edges in a image****"
   ]
  },
  {
   "cell_type": "markdown",
   "metadata": {
    "papermill": {
     "duration": 0.018738,
     "end_time": "2021-04-03T06:39:17.188307",
     "exception": false,
     "start_time": "2021-04-03T06:39:17.169569",
     "status": "completed"
    },
    "tags": []
   },
   "source": [
    "### Kernel_1 is for detecting the vertical edges and kernel_2 is for detecting the horizontal edges and this detection makes the image more clear for detecting the power lines"
   ]
  },
  {
   "cell_type": "code",
   "execution_count": 2,
   "metadata": {
    "execution": {
     "iopub.execute_input": "2021-04-03T06:39:17.234022Z",
     "iopub.status.busy": "2021-04-03T06:39:17.233425Z",
     "iopub.status.idle": "2021-04-03T06:39:17.922473Z",
     "shell.execute_reply": "2021-04-03T06:39:17.921968Z"
    },
    "papermill": {
     "duration": 0.715386,
     "end_time": "2021-04-03T06:39:17.922612",
     "exception": false,
     "start_time": "2021-04-03T06:39:17.207226",
     "status": "completed"
    },
    "tags": []
   },
   "outputs": [],
   "source": [
    "from scipy.signal import convolve2d\n",
    "import matplotlib.pyplot as plt\n",
    "\n",
    "kernel_1 = np.array([[-1, 0, 1],\n",
    "                   [-1, 0, 1],\n",
    "                   [-1, 0, 1]])\n",
    "kernel_2 = np.array([[-1, -1, -1],\n",
    "                   [0, 0, 0],\n",
    "                   [1, 1, 1]])\n",
    "def edge(im):\n",
    "    out1 = convolve2d(im, kernel_1)\n",
    "    out2 = convolve2d(im, kernel_2)\n",
    "    new=np.sqrt(np.square(out1)+np.square(out2))\n",
    "    return new\n",
    "\n",
    "def make(im):\n",
    "    im= cv2.cvtColor(im,cv2.COLOR_RGB2GRAY)\n",
    "    a=edge(im)\n",
    "    a=a[:128,:128]\n",
    "    im1=im.reshape(128,128,1)\n",
    "    im2=a.reshape(128,128,1)\n",
    "    return np.concatenate((im1,im2), axis=2)"
   ]
  },
  {
   "cell_type": "markdown",
   "metadata": {
    "papermill": {
     "duration": 0.018852,
     "end_time": "2021-04-03T06:39:17.962595",
     "exception": false,
     "start_time": "2021-04-03T06:39:17.943743",
     "status": "completed"
    },
    "tags": []
   },
   "source": [
    "# ****Loading the training Dataset****"
   ]
  },
  {
   "cell_type": "code",
   "execution_count": 3,
   "metadata": {
    "execution": {
     "iopub.execute_input": "2021-04-03T06:39:18.006844Z",
     "iopub.status.busy": "2021-04-03T06:39:18.006199Z",
     "iopub.status.idle": "2021-04-03T06:40:06.060584Z",
     "shell.execute_reply": "2021-04-03T06:40:06.059374Z"
    },
    "papermill": {
     "duration": 48.079147,
     "end_time": "2021-04-03T06:40:06.060823",
     "exception": false,
     "start_time": "2021-04-03T06:39:17.981676",
     "status": "completed"
    },
    "tags": []
   },
   "outputs": [],
   "source": [
    "import cv2 \n",
    "import os \n",
    "import glob \n",
    "img_dir = \"/kaggle/input/recognizance-2/Data/train/Powerline\" # Enter Directory of all images  \n",
    "data_path = os.path.join(img_dir,'*.bmp') \n",
    "files = glob.glob(data_path) \n",
    "train = [] \n",
    "train_labels=[]\n",
    "images=[]\n",
    "for f1 in files: \n",
    "    img = cv2.imread(f1) \n",
    "    images.append(img)\n",
    "    train.append(make(img))\n",
    "    train_labels.append(1)"
   ]
  },
  {
   "cell_type": "code",
   "execution_count": 4,
   "metadata": {
    "execution": {
     "iopub.execute_input": "2021-04-03T06:40:06.127929Z",
     "iopub.status.busy": "2021-04-03T06:40:06.127086Z",
     "iopub.status.idle": "2021-04-03T06:40:06.407292Z",
     "shell.execute_reply": "2021-04-03T06:40:06.407925Z"
    },
    "papermill": {
     "duration": 0.317877,
     "end_time": "2021-04-03T06:40:06.408126",
     "exception": false,
     "start_time": "2021-04-03T06:40:06.090249",
     "status": "completed"
    },
    "tags": []
   },
   "outputs": [
    {
     "data": {
      "text/plain": [
       "<matplotlib.image.AxesImage at 0x7f67e12e7090>"
      ]
     },
     "execution_count": 4,
     "metadata": {},
     "output_type": "execute_result"
    },
    {
     "data": {
      "image/png": "[encoded data removed]",
      "text/plain": [
       "<Figure size 432x288 with 1 Axes>"
      ]
     },
     "metadata": {
      "needs_background": "light"
     },
     "output_type": "display_data"
    }
   ],
   "source": [
    "plt.imshow(images[0])"
   ]
  },
  {
   "cell_type": "code",
   "execution_count": 5,
   "metadata": {
    "execution": {
     "iopub.execute_input": "2021-04-03T06:40:06.505553Z",
     "iopub.status.busy": "2021-04-03T06:40:06.504667Z",
     "iopub.status.idle": "2021-04-03T06:40:47.134971Z",
     "shell.execute_reply": "2021-04-03T06:40:47.133908Z"
    },
    "papermill": {
     "duration": 40.690766,
     "end_time": "2021-04-03T06:40:47.135128",
     "exception": false,
     "start_time": "2021-04-03T06:40:06.444362",
     "status": "completed"
    },
    "tags": []
   },
   "outputs": [],
   "source": [
    "img_dir = \"/kaggle/input/recognizance-2/Data/train/No_powerline\" # Enter Directory of all images  \n",
    "data_path = os.path.join(img_dir,'*.bmp') \n",
    "files = glob.glob(data_path) \n",
    "for f1 in files: \n",
    "    img = cv2.imread(f1)\n",
    "    images.append(img)\n",
    "    train.append(make(img))\n",
    "    train_labels.append(0)"
   ]
  },
  {
   "cell_type": "code",
   "execution_count": 6,
   "metadata": {
    "execution": {
     "iopub.execute_input": "2021-04-03T06:40:47.201102Z",
     "iopub.status.busy": "2021-04-03T06:40:47.198370Z",
     "iopub.status.idle": "2021-04-03T06:40:47.342866Z",
     "shell.execute_reply": "2021-04-03T06:40:47.342422Z"
    },
    "papermill": {
     "duration": 0.184595,
     "end_time": "2021-04-03T06:40:47.342991",
     "exception": false,
     "start_time": "2021-04-03T06:40:47.158396",
     "status": "completed"
    },
    "tags": []
   },
   "outputs": [
    {
     "data": {
      "text/plain": [
       "<matplotlib.image.AxesImage at 0x7f67e0183bd0>"
      ]
     },
     "execution_count": 6,
     "metadata": {},
     "output_type": "execute_result"
    },
    {
     "data": {
      "image/png": "[encoded data removed]",
      "text/plain": [
       "<Figure size 432x288 with 1 Axes>"
      ]
     },
     "metadata": {
      "needs_background": "light"
     },
     "output_type": "display_data"
    }
   ],
   "source": [
    "plt.imshow(images[len(images)-1])"
   ]
  },
  {
   "cell_type": "markdown",
   "metadata": {
    "papermill": {
     "duration": 0.02416,
     "end_time": "2021-04-03T06:40:47.391917",
     "exception": false,
     "start_time": "2021-04-03T06:40:47.367757",
     "status": "completed"
    },
    "tags": []
   },
   "source": [
    "# ****Shuffling the training images and labels****"
   ]
  },
  {
   "cell_type": "code",
   "execution_count": 7,
   "metadata": {
    "execution": {
     "iopub.execute_input": "2021-04-03T06:40:47.551776Z",
     "iopub.status.busy": "2021-04-03T06:40:47.541647Z",
     "iopub.status.idle": "2021-04-03T06:40:49.108958Z",
     "shell.execute_reply": "2021-04-03T06:40:49.108513Z"
    },
    "papermill": {
     "duration": 1.692869,
     "end_time": "2021-04-03T06:40:49.109086",
     "exception": false,
     "start_time": "2021-04-03T06:40:47.416217",
     "status": "completed"
    },
    "tags": []
   },
   "outputs": [],
   "source": [
    "import random\n",
    "temp=list(zip(train,train_labels))\n",
    "for i in range(100):\n",
    "    random.shuffle(temp)\n",
    "train,train_labels=zip(*temp)\n",
    "train=np.array(train)\n",
    "train_labels=np.array(train_labels)"
   ]
  },
  {
   "cell_type": "code",
   "execution_count": 8,
   "metadata": {
    "execution": {
     "iopub.execute_input": "2021-04-03T06:40:49.164200Z",
     "iopub.status.busy": "2021-04-03T06:40:49.163525Z",
     "iopub.status.idle": "2021-04-03T06:40:49.166925Z",
     "shell.execute_reply": "2021-04-03T06:40:49.167336Z"
    },
    "papermill": {
     "duration": 0.033721,
     "end_time": "2021-04-03T06:40:49.167473",
     "exception": false,
     "start_time": "2021-04-03T06:40:49.133752",
     "status": "completed"
    },
    "tags": []
   },
   "outputs": [
    {
     "data": {
      "text/plain": [
       "(128, 128, 2)"
      ]
     },
     "execution_count": 8,
     "metadata": {},
     "output_type": "execute_result"
    }
   ],
   "source": [
    "train[0].shape"
   ]
  },
  {
   "cell_type": "code",
   "execution_count": 9,
   "metadata": {
    "execution": {
     "iopub.execute_input": "2021-04-03T06:40:49.222208Z",
     "iopub.status.busy": "2021-04-03T06:40:49.221043Z",
     "iopub.status.idle": "2021-04-03T06:40:50.207134Z",
     "shell.execute_reply": "2021-04-03T06:40:50.208312Z"
    },
    "papermill": {
     "duration": 1.01637,
     "end_time": "2021-04-03T06:40:50.208528",
     "exception": false,
     "start_time": "2021-04-03T06:40:49.192158",
     "status": "completed"
    },
    "tags": []
   },
   "outputs": [],
   "source": [
    "train=np.array(train)\n",
    "train_labels=np.array(train_labels)"
   ]
  },
  {
   "cell_type": "code",
   "execution_count": 10,
   "metadata": {
    "execution": {
     "iopub.execute_input": "2021-04-03T06:40:50.297789Z",
     "iopub.status.busy": "2021-04-03T06:40:50.296069Z",
     "iopub.status.idle": "2021-04-03T06:40:50.300455Z",
     "shell.execute_reply": "2021-04-03T06:40:50.299754Z"
    },
    "papermill": {
     "duration": 0.051243,
     "end_time": "2021-04-03T06:40:50.300617",
     "exception": false,
     "start_time": "2021-04-03T06:40:50.249374",
     "status": "completed"
    },
    "tags": []
   },
   "outputs": [
    {
     "data": {
      "text/plain": [
       "(10000, 128, 128, 2)"
      ]
     },
     "execution_count": 10,
     "metadata": {},
     "output_type": "execute_result"
    }
   ],
   "source": [
    "train.shape"
   ]
  },
  {
   "cell_type": "markdown",
   "metadata": {
    "papermill": {
     "duration": 0.041002,
     "end_time": "2021-04-03T06:40:50.382975",
     "exception": false,
     "start_time": "2021-04-03T06:40:50.341973",
     "status": "completed"
    },
    "tags": []
   },
   "source": [
    "# ****Importing the necessary Libraries****"
   ]
  },
  {
   "cell_type": "code",
   "execution_count": 11,
   "metadata": {
    "execution": {
     "iopub.execute_input": "2021-04-03T06:40:50.480827Z",
     "iopub.status.busy": "2021-04-03T06:40:50.480002Z",
     "iopub.status.idle": "2021-04-03T06:40:55.497900Z",
     "shell.execute_reply": "2021-04-03T06:40:55.497416Z"
    },
    "papermill": {
     "duration": 5.074115,
     "end_time": "2021-04-03T06:40:55.498032",
     "exception": false,
     "start_time": "2021-04-03T06:40:50.423917",
     "status": "completed"
    },
    "tags": []
   },
   "outputs": [],
   "source": [
    "import seaborn as sns\n",
    "%matplotlib inline\n",
    "\n",
    "np.random.seed(2)\n",
    "\n",
    "from sklearn.model_selection import train_test_split\n",
    "from sklearn.metrics import confusion_matrix\n",
    "import itertools\n",
    "\n",
    "from keras.utils.np_utils import to_categorical # convert to one-hot-encoding\n",
    "from keras.models import Sequential\n",
    "from keras.layers import Dense, Dropout, Flatten, Conv2D, MaxPool2D\n",
    "from keras.optimizers import RMSprop\n",
    "from keras.preprocessing.image import ImageDataGenerator\n",
    "from keras.callbacks import ReduceLROnPlateau\n",
    "\n",
    "sns.set(style='white', context='notebook', palette='deep')"
   ]
  },
  {
   "cell_type": "markdown",
   "metadata": {
    "papermill": {
     "duration": 0.025826,
     "end_time": "2021-04-03T06:40:55.549663",
     "exception": false,
     "start_time": "2021-04-03T06:40:55.523837",
     "status": "completed"
    },
    "tags": []
   },
   "source": [
    "# ****Initializing our Model****"
   ]
  },
  {
   "cell_type": "code",
   "execution_count": 12,
   "metadata": {
    "execution": {
     "iopub.execute_input": "2021-04-03T06:40:55.611935Z",
     "iopub.status.busy": "2021-04-03T06:40:55.611336Z",
     "iopub.status.idle": "2021-04-03T06:40:58.561958Z",
     "shell.execute_reply": "2021-04-03T06:40:58.561454Z"
    },
    "papermill": {
     "duration": 2.987255,
     "end_time": "2021-04-03T06:40:58.562089",
     "exception": false,
     "start_time": "2021-04-03T06:40:55.574834",
     "status": "completed"
    },
    "tags": []
   },
   "outputs": [],
   "source": [
    "model = Sequential()\n",
    "model.add(Conv2D(filters = 16, kernel_size = (5,5),padding = 'Same', \n",
    "                 activation ='relu', input_shape = (128,128,2)))\n",
    "model.add(Conv2D(filters = 16, kernel_size = (5,5),padding = 'Same', \n",
    "                 activation ='relu'))\n",
    "model.add(MaxPool2D(pool_size=(2,2)))\n",
    "model.add(Dropout(0.25))\n",
    "\n",
    "model.add(Conv2D(filters = 32, kernel_size = (5,5),padding = 'Same', \n",
    "                 activation ='relu'))\n",
    "model.add(Conv2D(filters = 32, kernel_size = (5,5),padding = 'Same', \n",
    "                 activation ='relu'))\n",
    "model.add(MaxPool2D(pool_size=(2,2)))\n",
    "model.add(Dropout(0.25))\n",
    "\n",
    "\n",
    "\n",
    "model.add(Conv2D(filters = 64, kernel_size = (3,3),padding = 'Same', \n",
    "                 activation ='relu'))\n",
    "model.add(Conv2D(filters = 64, kernel_size = (3,3),padding = 'Same', \n",
    "                 activation ='relu'))\n",
    "model.add(MaxPool2D(pool_size=(2,2), strides=(2,2)))\n",
    "\n",
    "\n",
    "model.add(Conv2D(filters = 128, kernel_size = (3,3),padding = 'Same', \n",
    "                 activation ='relu'))\n",
    "model.add(Conv2D(filters = 128, kernel_size = (3,3),padding = 'Same', \n",
    "                 activation ='relu'))\n",
    "model.add(MaxPool2D(pool_size=(2,2)))\n",
    "model.add(Dropout(0.25))\n",
    "\n",
    "model.add(Flatten())\n",
    "model.add(Dense(512, activation = \"relu\"))\n",
    "model.add(Dropout(0.5))\n",
    "model.add(Dense(1, activation = \"sigmoid\"))"
   ]
  },
  {
   "cell_type": "markdown",
   "metadata": {
    "papermill": {
     "duration": 0.025617,
     "end_time": "2021-04-03T06:40:58.614261",
     "exception": false,
     "start_time": "2021-04-03T06:40:58.588644",
     "status": "completed"
    },
    "tags": []
   },
   "source": [
    "# ****Model Prototype****"
   ]
  },
  {
   "cell_type": "code",
   "execution_count": 13,
   "metadata": {
    "execution": {
     "iopub.execute_input": "2021-04-03T06:40:58.671967Z",
     "iopub.status.busy": "2021-04-03T06:40:58.670584Z",
     "iopub.status.idle": "2021-04-03T06:40:58.680611Z",
     "shell.execute_reply": "2021-04-03T06:40:58.681242Z"
    },
    "papermill": {
     "duration": 0.041433,
     "end_time": "2021-04-03T06:40:58.681469",
     "exception": false,
     "start_time": "2021-04-03T06:40:58.640036",
     "status": "completed"
    },
    "tags": []
   },
   "outputs": [
    {
     "name": "stdout",
     "output_type": "stream",
     "text": [
      "Model: \"sequential\"\n",
      "_________________________________________________________________\n",
      "Layer (type)                 Output Shape              Param #   \n",
      "=================================================================\n",
      "conv2d (Conv2D)              (None, 128, 128, 16)      816       \n",
      "_________________________________________________________________\n",
      "conv2d_1 (Conv2D)            (None, 128, 128, 16)      6416      \n",
      "_________________________________________________________________\n",
      "max_pooling2d (MaxPooling2D) (None, 64, 64, 16)        0         \n",
      "_________________________________________________________________\n",
      "dropout (Dropout)            (None, 64, 64, 16)        0         \n",
      "_________________________________________________________________\n",
      "conv2d_2 (Conv2D)            (None, 64, 64, 32)        12832     \n",
      "_________________________________________________________________\n",
      "conv2d_3 (Conv2D)            (None, 64, 64, 32)        25632     \n",
      "_________________________________________________________________\n",
      "max_pooling2d_1 (MaxPooling2 (None, 32, 32, 32)        0         \n",
      "_________________________________________________________________\n",
      "dropout_1 (Dropout)          (None, 32, 32, 32)        0         \n",
      "_________________________________________________________________\n",
      "conv2d_4 (Conv2D)            (None, 32, 32, 64)        18496     \n",
      "_________________________________________________________________\n",
      "conv2d_5 (Conv2D)            (None, 32, 32, 64)        36928     \n",
      "_________________________________________________________________\n",
      "max_pooling2d_2 (MaxPooling2 (None, 16, 16, 64)        0         \n",
      "_________________________________________________________________\n",
      "conv2d_6 (Conv2D)            (None, 16, 16, 128)       73856     \n",
      "_________________________________________________________________\n",
      "conv2d_7 (Conv2D)            (None, 16, 16, 128)       147584    \n",
      "_________________________________________________________________\n",
      "max_pooling2d_3 (MaxPooling2 (None, 8, 8, 128)         0         \n",
      "_________________________________________________________________\n",
      "dropout_2 (Dropout)          (None, 8, 8, 128)         0         \n",
      "_________________________________________________________________\n",
      "flatten (Flatten)            (None, 8192)              0         \n",
      "_________________________________________________________________\n",
      "dense (Dense)                (None, 512)               4194816   \n",
      "_________________________________________________________________\n",
      "dropout_3 (Dropout)          (None, 512)               0         \n",
      "_________________________________________________________________\n",
      "dense_1 (Dense)              (None, 1)                 513       \n",
      "=================================================================\n",
      "Total params: 4,517,889\n",
      "Trainable params: 4,517,889\n",
      "Non-trainable params: 0\n",
      "_________________________________________________________________\n"
     ]
    }
   ],
   "source": [
    "model.summary()"
   ]
  },
  {
   "cell_type": "code",
   "execution_count": 14,
   "metadata": {
    "execution": {
     "iopub.execute_input": "2021-04-03T06:40:58.742850Z",
     "iopub.status.busy": "2021-04-03T06:40:58.742072Z",
     "iopub.status.idle": "2021-04-03T06:40:58.754690Z",
     "shell.execute_reply": "2021-04-03T06:40:58.754259Z"
    },
    "papermill": {
     "duration": 0.044819,
     "end_time": "2021-04-03T06:40:58.754825",
     "exception": false,
     "start_time": "2021-04-03T06:40:58.710006",
     "status": "completed"
    },
    "tags": []
   },
   "outputs": [],
   "source": [
    "optimizer =  RMSprop(lr=0.001, rho=0.9, epsilon=1e-08, decay=0.0)\n",
    "model.compile(optimizer = optimizer , loss = \"binary_crossentropy\", metrics=[\"accuracy\"])\n",
    "learning_rate_reduction = ReduceLROnPlateau(monitor='val_accuracy', \n",
    "                                            patience=3, \n",
    "                                            verbose=1, \n",
    "                                            factor=0.5, \n",
    "                                            min_lr=0.00001)"
   ]
  },
  {
   "cell_type": "code",
   "execution_count": 15,
   "metadata": {
    "execution": {
     "iopub.execute_input": "2021-04-03T06:40:58.812603Z",
     "iopub.status.busy": "2021-04-03T06:40:58.810848Z",
     "iopub.status.idle": "2021-04-03T06:40:58.813188Z",
     "shell.execute_reply": "2021-04-03T06:40:58.813600Z"
    },
    "papermill": {
     "duration": 0.03285,
     "end_time": "2021-04-03T06:40:58.813741",
     "exception": false,
     "start_time": "2021-04-03T06:40:58.780891",
     "status": "completed"
    },
    "tags": []
   },
   "outputs": [],
   "source": [
    "epochs = 30 # Turn epochs to 30 to get 0.9967 accuracy\n",
    "batch_size = 100"
   ]
  },
  {
   "cell_type": "code",
   "execution_count": 16,
   "metadata": {
    "execution": {
     "iopub.execute_input": "2021-04-03T06:40:58.872788Z",
     "iopub.status.busy": "2021-04-03T06:40:58.871508Z",
     "iopub.status.idle": "2021-04-03T06:41:00.763548Z",
     "shell.execute_reply": "2021-04-03T06:41:00.763004Z"
    },
    "papermill": {
     "duration": 1.923499,
     "end_time": "2021-04-03T06:41:00.763682",
     "exception": false,
     "start_time": "2021-04-03T06:40:58.840183",
     "status": "completed"
    },
    "tags": []
   },
   "outputs": [],
   "source": [
    "X_train, X_val, Y_train, Y_val = train_test_split(train, train_labels, test_size = 0.1, random_state= 2)\n",
    "X_train=X_train/255.0\n",
    "X_val=X_val/255.0"
   ]
  },
  {
   "cell_type": "code",
   "execution_count": 17,
   "metadata": {
    "execution": {
     "iopub.execute_input": "2021-04-03T06:41:00.823348Z",
     "iopub.status.busy": "2021-04-03T06:41:00.822267Z",
     "iopub.status.idle": "2021-04-03T06:41:01.887308Z",
     "shell.execute_reply": "2021-04-03T06:41:01.886811Z"
    },
    "papermill": {
     "duration": 1.096943,
     "end_time": "2021-04-03T06:41:01.887450",
     "exception": false,
     "start_time": "2021-04-03T06:41:00.790507",
     "status": "completed"
    },
    "tags": []
   },
   "outputs": [],
   "source": [
    "X_train=train/255.0\n",
    "Y_train=train_labels"
   ]
  },
  {
   "cell_type": "markdown",
   "metadata": {
    "papermill": {
     "duration": 0.026829,
     "end_time": "2021-04-03T06:41:01.941125",
     "exception": false,
     "start_time": "2021-04-03T06:41:01.914296",
     "status": "completed"
    },
    "tags": []
   },
   "source": [
    "# ****Training our model****"
   ]
  },
  {
   "cell_type": "code",
   "execution_count": 18,
   "metadata": {
    "execution": {
     "iopub.execute_input": "2021-04-03T06:41:02.000689Z",
     "iopub.status.busy": "2021-04-03T06:41:01.999999Z",
     "iopub.status.idle": "2021-04-03T06:43:53.503314Z",
     "shell.execute_reply": "2021-04-03T06:43:53.502759Z"
    },
    "papermill": {
     "duration": 171.535392,
     "end_time": "2021-04-03T06:43:53.503473",
     "exception": false,
     "start_time": "2021-04-03T06:41:01.968081",
     "status": "completed"
    },
    "tags": []
   },
   "outputs": [
    {
     "name": "stdout",
     "output_type": "stream",
     "text": [
      "Epoch 1/30\n",
      "100/100 [==============================] - 10s 55ms/step - loss: 0.6981 - accuracy: 0.5248\n",
      "Epoch 2/30\n",
      "100/100 [==============================] - 5s 55ms/step - loss: 0.6975 - accuracy: 0.5906\n",
      "Epoch 3/30\n",
      "100/100 [==============================] - 6s 55ms/step - loss: 0.5627 - accuracy: 0.7001\n",
      "Epoch 4/30\n",
      "100/100 [==============================] - 5s 55ms/step - loss: 0.4129 - accuracy: 0.8048\n",
      "Epoch 5/30\n",
      "100/100 [==============================] - 6s 55ms/step - loss: 0.3628 - accuracy: 0.8435\n",
      "Epoch 6/30\n",
      "100/100 [==============================] - 6s 56ms/step - loss: 0.3238 - accuracy: 0.8657\n",
      "Epoch 7/30\n",
      "100/100 [==============================] - 5s 54ms/step - loss: 0.2969 - accuracy: 0.8779\n",
      "Epoch 8/30\n",
      "100/100 [==============================] - 5s 54ms/step - loss: 0.2615 - accuracy: 0.9033\n",
      "Epoch 9/30\n",
      "100/100 [==============================] - 6s 55ms/step - loss: 0.2660 - accuracy: 0.8952\n",
      "Epoch 10/30\n",
      "100/100 [==============================] - 6s 55ms/step - loss: 0.2431 - accuracy: 0.9103\n",
      "Epoch 11/30\n",
      "100/100 [==============================] - 6s 55ms/step - loss: 0.2321 - accuracy: 0.9133\n",
      "Epoch 12/30\n",
      "100/100 [==============================] - 6s 56ms/step - loss: 0.2299 - accuracy: 0.9136\n",
      "Epoch 13/30\n",
      "100/100 [==============================] - 6s 55ms/step - loss: 0.2135 - accuracy: 0.9237\n",
      "Epoch 14/30\n",
      "100/100 [==============================] - 5s 54ms/step - loss: 0.2137 - accuracy: 0.9198\n",
      "Epoch 15/30\n",
      "100/100 [==============================] - 5s 55ms/step - loss: 0.2068 - accuracy: 0.9260\n",
      "Epoch 16/30\n",
      "100/100 [==============================] - 5s 55ms/step - loss: 0.2064 - accuracy: 0.9268\n",
      "Epoch 17/30\n",
      "100/100 [==============================] - 6s 55ms/step - loss: 0.1878 - accuracy: 0.9345\n",
      "Epoch 18/30\n",
      "100/100 [==============================] - 6s 56ms/step - loss: 0.1928 - accuracy: 0.9303\n",
      "Epoch 19/30\n",
      "100/100 [==============================] - 6s 55ms/step - loss: 0.1697 - accuracy: 0.9426\n",
      "Epoch 20/30\n",
      "100/100 [==============================] - 5s 55ms/step - loss: 0.1845 - accuracy: 0.9354\n",
      "Epoch 21/30\n",
      "100/100 [==============================] - 6s 55ms/step - loss: 0.1841 - accuracy: 0.9363\n",
      "Epoch 22/30\n",
      "100/100 [==============================] - 5s 54ms/step - loss: 0.1750 - accuracy: 0.9403\n",
      "Epoch 23/30\n",
      "100/100 [==============================] - 6s 56ms/step - loss: 0.1585 - accuracy: 0.9457\n",
      "Epoch 24/30\n",
      "100/100 [==============================] - 5s 55ms/step - loss: 0.1612 - accuracy: 0.9445\n",
      "Epoch 25/30\n",
      "100/100 [==============================] - 6s 55ms/step - loss: 0.1592 - accuracy: 0.9447\n",
      "Epoch 26/30\n",
      "100/100 [==============================] - 5s 55ms/step - loss: 0.1515 - accuracy: 0.9453\n",
      "Epoch 27/30\n",
      "100/100 [==============================] - 6s 56ms/step - loss: 0.1757 - accuracy: 0.9380\n",
      "Epoch 28/30\n",
      "100/100 [==============================] - 5s 55ms/step - loss: 0.1457 - accuracy: 0.9517\n",
      "Epoch 29/30\n",
      "100/100 [==============================] - 6s 57ms/step - loss: 0.1541 - accuracy: 0.9469\n",
      "Epoch 30/30\n",
      "100/100 [==============================] - 5s 55ms/step - loss: 0.1549 - accuracy: 0.9481\n"
     ]
    }
   ],
   "source": [
    "history = model.fit( X_train,Y_train, batch_size=batch_size,\n",
    "                              epochs = 30, \n",
    "                              verbose = 1, steps_per_epoch=X_train.shape[0] // batch_size\n",
    "                               )"
   ]
  },
  {
   "cell_type": "code",
   "execution_count": 19,
   "metadata": {
    "execution": {
     "iopub.execute_input": "2021-04-03T06:43:55.135909Z",
     "iopub.status.busy": "2021-04-03T06:43:55.134042Z",
     "iopub.status.idle": "2021-04-03T06:43:55.136485Z",
     "shell.execute_reply": "2021-04-03T06:43:55.136891Z"
    },
    "papermill": {
     "duration": 0.816865,
     "end_time": "2021-04-03T06:43:55.137035",
     "exception": false,
     "start_time": "2021-04-03T06:43:54.320170",
     "status": "completed"
    },
    "tags": []
   },
   "outputs": [],
   "source": [
    "del train"
   ]
  },
  {
   "cell_type": "code",
   "execution_count": 20,
   "metadata": {
    "execution": {
     "iopub.execute_input": "2021-04-03T06:43:56.790766Z",
     "iopub.status.busy": "2021-04-03T06:43:56.788992Z",
     "iopub.status.idle": "2021-04-03T06:43:56.791358Z",
     "shell.execute_reply": "2021-04-03T06:43:56.791749Z"
    },
    "papermill": {
     "duration": 0.81434,
     "end_time": "2021-04-03T06:43:56.791894",
     "exception": false,
     "start_time": "2021-04-03T06:43:55.977554",
     "status": "completed"
    },
    "tags": []
   },
   "outputs": [],
   "source": [
    "del train_labels"
   ]
  },
  {
   "cell_type": "markdown",
   "metadata": {
    "papermill": {
     "duration": 0.798318,
     "end_time": "2021-04-03T06:43:58.645779",
     "exception": false,
     "start_time": "2021-04-03T06:43:57.847461",
     "status": "completed"
    },
    "tags": []
   },
   "source": [
    "# ****Loading the test Dataset****"
   ]
  },
  {
   "cell_type": "code",
   "execution_count": 21,
   "metadata": {
    "execution": {
     "iopub.execute_input": "2021-04-03T06:44:00.267392Z",
     "iopub.status.busy": "2021-04-03T06:44:00.266768Z",
     "iopub.status.idle": "2021-04-03T06:44:51.767430Z",
     "shell.execute_reply": "2021-04-03T06:44:51.766298Z"
    },
    "papermill": {
     "duration": 52.317044,
     "end_time": "2021-04-03T06:44:51.767601",
     "exception": false,
     "start_time": "2021-04-03T06:43:59.450557",
     "status": "completed"
    },
    "tags": []
   },
   "outputs": [],
   "source": [
    "img_dir = \"/kaggle/input/recognizance-2/Data/test\" # Enter Directory of all images  \n",
    "data_path = os.path.join(img_dir,'*.bmp') \n",
    "files = glob.glob(data_path) \n",
    "test_images = []\n",
    "for f1 in files: \n",
    "    img = cv2.imread(f1) \n",
    "    test_images.append(make(img)) "
   ]
  },
  {
   "cell_type": "code",
   "execution_count": 22,
   "metadata": {
    "execution": {
     "iopub.execute_input": "2021-04-03T06:44:53.654042Z",
     "iopub.status.busy": "2021-04-03T06:44:53.652247Z",
     "iopub.status.idle": "2021-04-03T06:44:53.654639Z",
     "shell.execute_reply": "2021-04-03T06:44:53.655038Z"
    },
    "papermill": {
     "duration": 0.818977,
     "end_time": "2021-04-03T06:44:53.655193",
     "exception": false,
     "start_time": "2021-04-03T06:44:52.836216",
     "status": "completed"
    },
    "tags": []
   },
   "outputs": [],
   "source": [
    "del X_train"
   ]
  },
  {
   "cell_type": "code",
   "execution_count": 23,
   "metadata": {
    "execution": {
     "iopub.execute_input": "2021-04-03T06:44:55.318008Z",
     "iopub.status.busy": "2021-04-03T06:44:55.317472Z",
     "iopub.status.idle": "2021-04-03T06:44:55.841617Z",
     "shell.execute_reply": "2021-04-03T06:44:55.840801Z"
    },
    "papermill": {
     "duration": 1.328326,
     "end_time": "2021-04-03T06:44:55.841755",
     "exception": false,
     "start_time": "2021-04-03T06:44:54.513429",
     "status": "completed"
    },
    "tags": []
   },
   "outputs": [],
   "source": [
    "test_images=np.array(test_images)"
   ]
  },
  {
   "cell_type": "code",
   "execution_count": 24,
   "metadata": {
    "execution": {
     "iopub.execute_input": "2021-04-03T06:44:57.446824Z",
     "iopub.status.busy": "2021-04-03T06:44:57.445754Z",
     "iopub.status.idle": "2021-04-03T06:44:57.922605Z",
     "shell.execute_reply": "2021-04-03T06:44:57.922116Z"
    },
    "papermill": {
     "duration": 1.28087,
     "end_time": "2021-04-03T06:44:57.922740",
     "exception": false,
     "start_time": "2021-04-03T06:44:56.641870",
     "status": "completed"
    },
    "tags": []
   },
   "outputs": [],
   "source": [
    "test_images=test_images/255.0"
   ]
  },
  {
   "cell_type": "code",
   "execution_count": 25,
   "metadata": {
    "execution": {
     "iopub.execute_input": "2021-04-03T06:44:59.533244Z",
     "iopub.status.busy": "2021-04-03T06:44:59.532652Z",
     "iopub.status.idle": "2021-04-03T06:44:59.537952Z",
     "shell.execute_reply": "2021-04-03T06:44:59.537509Z"
    },
    "papermill": {
     "duration": 0.813078,
     "end_time": "2021-04-03T06:44:59.538068",
     "exception": false,
     "start_time": "2021-04-03T06:44:58.724990",
     "status": "completed"
    },
    "tags": []
   },
   "outputs": [
    {
     "data": {
      "text/plain": [
       "(6078, 128, 128, 2)"
      ]
     },
     "execution_count": 25,
     "metadata": {},
     "output_type": "execute_result"
    }
   ],
   "source": [
    "test_images.shape"
   ]
  },
  {
   "cell_type": "markdown",
   "metadata": {
    "papermill": {
     "duration": 0.80104,
     "end_time": "2021-04-03T06:45:01.152840",
     "exception": false,
     "start_time": "2021-04-03T06:45:00.351800",
     "status": "completed"
    },
    "tags": []
   },
   "source": [
    "# ****Predicting the test images****"
   ]
  },
  {
   "cell_type": "code",
   "execution_count": 26,
   "metadata": {
    "execution": {
     "iopub.execute_input": "2021-04-03T06:45:02.795238Z",
     "iopub.status.busy": "2021-04-03T06:45:02.794280Z",
     "iopub.status.idle": "2021-04-03T06:45:04.994540Z",
     "shell.execute_reply": "2021-04-03T06:45:04.994001Z"
    },
    "papermill": {
     "duration": 3.007082,
     "end_time": "2021-04-03T06:45:04.994671",
     "exception": false,
     "start_time": "2021-04-03T06:45:01.987589",
     "status": "completed"
    },
    "tags": []
   },
   "outputs": [],
   "source": [
    "test_labels=model.predict(test_images)"
   ]
  },
  {
   "cell_type": "code",
   "execution_count": 27,
   "metadata": {
    "execution": {
     "iopub.execute_input": "2021-04-03T06:45:06.612199Z",
     "iopub.status.busy": "2021-04-03T06:45:06.608384Z",
     "iopub.status.idle": "2021-04-03T06:45:06.614738Z",
     "shell.execute_reply": "2021-04-03T06:45:06.614334Z"
    },
    "papermill": {
     "duration": 0.81791,
     "end_time": "2021-04-03T06:45:06.614858",
     "exception": false,
     "start_time": "2021-04-03T06:45:05.796948",
     "status": "completed"
    },
    "tags": []
   },
   "outputs": [],
   "source": [
    "labels=[]\n",
    "for i in test_labels:\n",
    "    if(i>0.5):\n",
    "        labels.append(\"YES\")\n",
    "    else:\n",
    "        labels.append(\"NO\")"
   ]
  },
  {
   "cell_type": "code",
   "execution_count": 28,
   "metadata": {
    "execution": {
     "iopub.execute_input": "2021-04-03T06:45:08.225541Z",
     "iopub.status.busy": "2021-04-03T06:45:08.224940Z",
     "iopub.status.idle": "2021-04-03T06:45:08.228582Z",
     "shell.execute_reply": "2021-04-03T06:45:08.228106Z"
    },
    "papermill": {
     "duration": 0.81307,
     "end_time": "2021-04-03T06:45:08.228692",
     "exception": false,
     "start_time": "2021-04-03T06:45:07.415622",
     "status": "completed"
    },
    "tags": []
   },
   "outputs": [],
   "source": [
    "test_names=[]\n",
    "for f1 in files:  \n",
    "    test_names.append(f1)"
   ]
  },
  {
   "cell_type": "code",
   "execution_count": 29,
   "metadata": {
    "execution": {
     "iopub.execute_input": "2021-04-03T06:45:09.875722Z",
     "iopub.status.busy": "2021-04-03T06:45:09.874964Z",
     "iopub.status.idle": "2021-04-03T06:45:09.879861Z",
     "shell.execute_reply": "2021-04-03T06:45:09.879418Z"
    },
    "papermill": {
     "duration": 0.847308,
     "end_time": "2021-04-03T06:45:09.879976",
     "exception": false,
     "start_time": "2021-04-03T06:45:09.032668",
     "status": "completed"
    },
    "tags": []
   },
   "outputs": [
    {
     "data": {
      "text/plain": [
       "'Check   (3311).bmp'"
      ]
     },
     "execution_count": 29,
     "metadata": {},
     "output_type": "execute_result"
    }
   ],
   "source": [
    "for i in range(0,len(test_images)):\n",
    "    test_names[i]=test_names[i][39:]\n",
    "test_names[0] "
   ]
  },
  {
   "cell_type": "code",
   "execution_count": 30,
   "metadata": {
    "execution": {
     "iopub.execute_input": "2021-04-03T06:45:11.509721Z",
     "iopub.status.busy": "2021-04-03T06:45:11.508997Z",
     "iopub.status.idle": "2021-04-03T06:45:11.543352Z",
     "shell.execute_reply": "2021-04-03T06:45:11.543746Z"
    },
    "papermill": {
     "duration": 0.839098,
     "end_time": "2021-04-03T06:45:11.543897",
     "exception": false,
     "start_time": "2021-04-03T06:45:10.704799",
     "status": "completed"
    },
    "tags": []
   },
   "outputs": [
    {
     "data": {
      "text/html": [
       "<div>\n",
       "<style scoped>\n",
       "    .dataframe tbody tr th:only-of-type {\n",
       "        vertical-align: middle;\n",
       "    }\n",
       "\n",
       "    .dataframe tbody tr th {\n",
       "        vertical-align: top;\n",
       "    }\n",
       "\n",
       "    .dataframe thead th {\n",
       "        text-align: right;\n",
       "    }\n",
       "</style>\n",
       "<table border=\"1\" class=\"dataframe\">\n",
       "  <thead>\n",
       "    <tr style=\"text-align: right;\">\n",
       "      <th></th>\n",
       "      <th>image file name</th>\n",
       "      <th>Powerline</th>\n",
       "    </tr>\n",
       "  </thead>\n",
       "  <tbody>\n",
       "    <tr>\n",
       "      <th>0</th>\n",
       "      <td>Check   (3311).bmp</td>\n",
       "      <td>NO</td>\n",
       "    </tr>\n",
       "    <tr>\n",
       "      <th>1</th>\n",
       "      <td>Check  (2007).bmp</td>\n",
       "      <td>YES</td>\n",
       "    </tr>\n",
       "    <tr>\n",
       "      <th>2</th>\n",
       "      <td>Check  (118).bmp</td>\n",
       "      <td>YES</td>\n",
       "    </tr>\n",
       "    <tr>\n",
       "      <th>3</th>\n",
       "      <td>Check   (340).bmp</td>\n",
       "      <td>NO</td>\n",
       "    </tr>\n",
       "    <tr>\n",
       "      <th>4</th>\n",
       "      <td>Check  (2374).bmp</td>\n",
       "      <td>YES</td>\n",
       "    </tr>\n",
       "    <tr>\n",
       "      <th>...</th>\n",
       "      <td>...</td>\n",
       "      <td>...</td>\n",
       "    </tr>\n",
       "    <tr>\n",
       "      <th>6073</th>\n",
       "      <td>Check   (633).bmp</td>\n",
       "      <td>NO</td>\n",
       "    </tr>\n",
       "    <tr>\n",
       "      <th>6074</th>\n",
       "      <td>Check   (1595).bmp</td>\n",
       "      <td>NO</td>\n",
       "    </tr>\n",
       "    <tr>\n",
       "      <th>6075</th>\n",
       "      <td>Check   (2571).bmp</td>\n",
       "      <td>NO</td>\n",
       "    </tr>\n",
       "    <tr>\n",
       "      <th>6076</th>\n",
       "      <td>Check  (2029).bmp</td>\n",
       "      <td>YES</td>\n",
       "    </tr>\n",
       "    <tr>\n",
       "      <th>6077</th>\n",
       "      <td>Check   (516).bmp</td>\n",
       "      <td>NO</td>\n",
       "    </tr>\n",
       "  </tbody>\n",
       "</table>\n",
       "<p>6078 rows × 2 columns</p>\n",
       "</div>"
      ],
      "text/plain": [
       "         image file name Powerline\n",
       "0     Check   (3311).bmp        NO\n",
       "1      Check  (2007).bmp       YES\n",
       "2       Check  (118).bmp       YES\n",
       "3      Check   (340).bmp        NO\n",
       "4      Check  (2374).bmp       YES\n",
       "...                  ...       ...\n",
       "6073   Check   (633).bmp        NO\n",
       "6074  Check   (1595).bmp        NO\n",
       "6075  Check   (2571).bmp        NO\n",
       "6076   Check  (2029).bmp       YES\n",
       "6077   Check   (516).bmp        NO\n",
       "\n",
       "[6078 rows x 2 columns]"
      ]
     },
     "execution_count": 30,
     "metadata": {},
     "output_type": "execute_result"
    }
   ],
   "source": [
    "file=pd.DataFrame(test_names,columns=['image file name'])\n",
    "file['Powerline']=labels\n",
    "file"
   ]
  },
  {
   "cell_type": "markdown",
   "metadata": {
    "papermill": {
     "duration": 0.799698,
     "end_time": "2021-04-03T06:45:13.145336",
     "exception": false,
     "start_time": "2021-04-03T06:45:12.345638",
     "status": "completed"
    },
    "tags": []
   },
   "source": [
    "# ****Saving the file for submission****"
   ]
  },
  {
   "cell_type": "code",
   "execution_count": 31,
   "metadata": {
    "execution": {
     "iopub.execute_input": "2021-04-03T06:45:15.013513Z",
     "iopub.status.busy": "2021-04-03T06:45:15.012644Z",
     "iopub.status.idle": "2021-04-03T06:45:15.185506Z",
     "shell.execute_reply": "2021-04-03T06:45:15.184992Z"
    },
    "papermill": {
     "duration": 1.202074,
     "end_time": "2021-04-03T06:45:15.185649",
     "exception": false,
     "start_time": "2021-04-03T06:45:13.983575",
     "status": "completed"
    },
    "tags": []
   },
   "outputs": [],
   "source": [
    "file.to_csv('output.csv',index=False)"
   ]
  }
 ],
 "metadata": {
  "kernelspec": {
   "display_name": "Python 3",
   "language": "python",
   "name": "python3"
  },
  "language_info": {
   "codemirror_mode": {
    "name": "ipython",
    "version": 3
   },
   "file_extension": ".py",
   "mimetype": "text/x-python",
   "name": "python",
   "nbconvert_exporter": "python",
   "pygments_lexer": "ipython3",
   "version": "3.7.9"
  },
  "papermill": {
   "default_parameters": {},
   "duration": 367.136537,
   "end_time": "2021-04-03T06:45:19.374425",
   "environment_variables": {},
   "exception": null,
   "input_path": "__notebook__.ipynb",
   "output_path": "__notebook__.ipynb",
   "parameters": {},
   "start_time": "2021-04-03T06:39:12.237888",
   "version": "2.2.2"
  }
 },
 "nbformat": 4,
 "nbformat_minor": 4
}
